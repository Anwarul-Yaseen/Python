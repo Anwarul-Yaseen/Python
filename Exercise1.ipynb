{
 "cells": [
  {
   "cell_type": "markdown",
   "metadata": {},
   "source": [
    "1. Implement the two functions:\n",
    "\n",
    "One that converts temperature in degrees Celsius to degrees Fahrenheit.\n",
    "Anthoer that converts temperature in degrees Fahrenheit to degrees Celsius.\n",
    "Keep in mind that:\n",
    "\n",
    "F=9/5*C+32"
   ]
  },
  {
   "cell_type": "code",
   "execution_count": null,
   "metadata": {},
   "outputs": [],
   "source": [
    "def toFarenheit(pCelsius):\n",
    "  return (9/5) * pCelsius + 32\n",
    "\n",
    "def toCelsius(pFarenheit):\n",
    "  return  (pFarenheit -32) / (9/5)\n",
    "\n"
   ]
  },
  {
   "cell_type": "markdown",
   "metadata": {},
   "source": [
    "2. Implement a function that returns true if the number is prime (false otherwise). Test from 1 to 100"
   ]
  },
  {
   "cell_type": "code",
   "execution_count": null,
   "metadata": {},
   "outputs": [],
   "source": [
    "def isPrime(pNumber):\n",
    "    if (pNumber == 1 or pNumber==2):\n",
    "        return True\n",
    "    else:\n",
    "        for i in range(2,pNumber-1):\n",
    "            if (pNumber % i)==0 :\n",
    "                return False\n",
    "            else:\n",
    "              pass\n",
    "    return True"
   ]
  },
  {
   "cell_type": "code",
   "execution_count": null,
   "metadata": {},
   "outputs": [],
   "source": [
    "for i in range(1,100):\n",
    "    if isPrime(i):\n",
    "      print (\"{} is prime\".format(i))"
   ]
  },
  {
   "cell_type": "markdown",
   "metadata": {},
   "source": [
    "3. Implement a function that takes a list of lists of any length and returns a list of one dimension."
   ]
  },
  {
   "cell_type": "code",
   "execution_count": null,
   "metadata": {},
   "outputs": [],
   "source": [
    "lArray = []\n",
    "def changeSingleDim(plist):\n",
    "    for x in plist:\n",
    "        if type(x)==list:\n",
    "            changeSingleDim(x)\n",
    "        else:\n",
    "          lArray.append(x)\n",
    "    return lArray"
   ]
  },
  {
   "cell_type": "code",
   "execution_count": null,
   "metadata": {},
   "outputs": [],
   "source": [
    "list1=[1,2,[3,4,5],6,7,['a','b','c']]\n",
    "print(changeSingleDim(list1))"
   ]
  },
  {
   "cell_type": "markdown",
   "metadata": {},
   "source": [
    "4. Implement a function that takes a dictionary and returns the sum, average "
   ]
  },
  {
   "cell_type": "code",
   "execution_count": null,
   "metadata": {},
   "outputs": [],
   "source": [
    "def findSumFromDict(pDict):\n",
    "    cnt=0\n",
    "    total=0\n",
    "    for x in pDict:\n",
    "        print(x)\n",
    "        total+=x[\"Value\"]\n",
    "        cnt+=1\n",
    "    if cnt > 0 :\n",
    "        return total, total/cnt\n",
    "    else:\n",
    "        return 0,0"
   ]
  },
  {
   "cell_type": "code",
   "execution_count": null,
   "metadata": {},
   "outputs": [],
   "source": [
    "dict1 =({\"Name\":\"Anwar\",\"Value\":100},{\"Name\":\"Ashok\",\"Value\":200})\n",
    "total,avg = findSumFromDict(dict1)\n",
    "print(\"total is {} and average is {}\".format(total,avg))"
   ]
  },
  {
   "cell_type": "markdown",
   "metadata": {},
   "source": [
    "5. Write a function that: Gets a phrase as a parameter. Returns a new sentence with each word with the letters reversed."
   ]
  },
  {
   "cell_type": "code",
   "execution_count": 182,
   "metadata": {},
   "outputs": [],
   "source": [
    "def reverseWord(pPhrase):\n",
    "    for word in pPhrase.split(\" \"):\n",
    "        print(word[::-1], end =' ')"
   ]
  },
  {
   "cell_type": "code",
   "execution_count": 184,
   "metadata": {},
   "outputs": [
    {
     "name": "stdout",
     "output_type": "stream",
     "text": [
      "aidnI si ym yrtnuoc India is my country "
     ]
    }
   ],
   "source": [
    "reverseWord(\"India is my country\")\n",
    "reverseWord(\"aidnI si ym yrtnuoc\")"
   ]
  },
  {
   "cell_type": "markdown",
   "metadata": {},
   "source": [
    "6. Create a function that:\n",
    "<ul>\n",
    "<li>Gets a list of tuples (data), an integer (key, by default equal to zero) and a boolean (reverse, false by default).</li>\n",
    "<li>Returns data sorted by item indicated by key in descending order and if reverse is true</li>\n",
    "</ul>"
   ]
  },
  {
   "cell_type": "code",
   "execution_count": null,
   "metadata": {},
   "outputs": [],
   "source": [
    "def SortTuple(pTuple,pSortOrd=0,pReverse=False):\n",
    "    print(sorted(pTuple,key=lambda x:x[pSortOrd],reverse=pReverse))"
   ]
  },
  {
   "cell_type": "code",
   "execution_count": null,
   "metadata": {},
   "outputs": [],
   "source": [
    "pTuple1=[(\"Anwar\",\"Engineer\",5000),(\"Ashok\",\"Doctor\",10000),(\"Sanjay\",\"Scientist\",15000)]\n",
    "SortTuple(pTuple1,pSortOrd=1)"
   ]
  }
 ],
 "metadata": {
  "kernelspec": {
   "display_name": "Python 3",
   "language": "python",
   "name": "python3"
  },
  "language_info": {
   "codemirror_mode": {
    "name": "ipython",
    "version": 3
   },
   "file_extension": ".py",
   "mimetype": "text/x-python",
   "name": "python",
   "nbconvert_exporter": "python",
   "pygments_lexer": "ipython3",
   "version": "3.7.4"
  }
 },
 "nbformat": 4,
 "nbformat_minor": 2
}
